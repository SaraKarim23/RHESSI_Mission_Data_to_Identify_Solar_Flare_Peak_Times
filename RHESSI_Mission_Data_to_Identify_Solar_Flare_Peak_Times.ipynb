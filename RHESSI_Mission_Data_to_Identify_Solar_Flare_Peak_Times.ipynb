{
  "nbformat": 4,
  "nbformat_minor": 0,
  "metadata": {
    "colab": {
      "provenance": [],
      "authorship_tag": "ABX9TyNvZwnK7kqXzafwcKPYjYH2",
      "include_colab_link": true
    },
    "kernelspec": {
      "name": "python3",
      "display_name": "Python 3"
    },
    "language_info": {
      "name": "python"
    }
  },
  "cells": [
    {
      "cell_type": "markdown",
      "metadata": {
        "id": "view-in-github",
        "colab_type": "text"
      },
      "source": [
        "<a href=\"https://colab.research.google.com/github/SaraKarim23/RHESSI_Mission_Data_to_Identify_Solar_Flare_Peak_Times/blob/main/RHESSI_Mission_Data_to_Identify_Solar_Flare_Peak_Times.ipynb\" target=\"_parent\"><img src=\"https://colab.research.google.com/assets/colab-badge.svg\" alt=\"Open In Colab\"/></a>"
      ]
    },
    {
      "cell_type": "code",
      "source": [
        "from google.colab import drive\n",
        "drive.mount('/content/drive')"
      ],
      "metadata": {
        "id": "BLEKHi-k8_F1",
        "colab": {
          "base_uri": "https://localhost:8080/"
        },
        "outputId": "bd359be3-6b89-47e5-b065-8c84a6acc10d"
      },
      "execution_count": 1,
      "outputs": [
        {
          "output_type": "stream",
          "name": "stdout",
          "text": [
            "Mounted at /content/drive\n"
          ]
        }
      ]
    },
    {
      "cell_type": "code",
      "source": [
        "import pandas as pd\n",
        "\n",
        "data_path = '/content/drive/MyDrive/MSc/Solar /hessi.solar.flare.2002to2016.csv'\n",
        "data = pd.read_csv(data_path)\n",
        "\n",
        "data.head()"
      ],
      "metadata": {
        "colab": {
          "base_uri": "https://localhost:8080/",
          "height": 226
        },
        "id": "sp0LWJ12Ww3y",
        "outputId": "0f448868-34c5-4237-8386-f126f4840052"
      },
      "execution_count": 2,
      "outputs": [
        {
          "output_type": "execute_result",
          "data": {
            "text/plain": [
              "     flare  start.date start.time      peak       end  duration.s  peak.c/s  \\\n",
              "0  2021213  2002-02-12   21:29:56  21:33:38  21:41:48         712       136   \n",
              "1  2021228  2002-02-12   21:44:08  21:45:06  21:48:56         288         7   \n",
              "2  2021332  2002-02-13   00:53:24  00:54:54  00:57:00         216        15   \n",
              "3  2021308  2002-02-13   04:22:52  04:23:50  04:26:56         244        20   \n",
              "4  2021310  2002-02-13   07:03:52  07:05:14  07:07:48         236       336   \n",
              "\n",
              "   total.counts energy.kev  x.pos.asec  y.pos.asec  radial  active.region.ar  \\\n",
              "0        167304      12-25         592        -358     692                 0   \n",
              "1          9504       6-12         604        -341     694              9811   \n",
              "2         11448       6-12        -310         375     487              9825   \n",
              "3         17400      12-25        -277         378     469              9822   \n",
              "4        313392      25-50        -272         390     476              9825   \n",
              "\n",
              "  flag.1 flag.2 flag.3 flag.4 flag.5  \n",
              "0     A1     P1    NaN    NaN    NaN  \n",
              "1     A1     P1     PE     Q1    NaN  \n",
              "2     A1     P1    NaN    NaN    NaN  \n",
              "3     A1     P1    NaN    NaN    NaN  \n",
              "4     A1     GS     P1     PE     Q2  "
            ],
            "text/html": [
              "\n",
              "  <div id=\"df-b8f09677-3811-4e3f-b4e3-9b579d125efe\" class=\"colab-df-container\">\n",
              "    <div>\n",
              "<style scoped>\n",
              "    .dataframe tbody tr th:only-of-type {\n",
              "        vertical-align: middle;\n",
              "    }\n",
              "\n",
              "    .dataframe tbody tr th {\n",
              "        vertical-align: top;\n",
              "    }\n",
              "\n",
              "    .dataframe thead th {\n",
              "        text-align: right;\n",
              "    }\n",
              "</style>\n",
              "<table border=\"1\" class=\"dataframe\">\n",
              "  <thead>\n",
              "    <tr style=\"text-align: right;\">\n",
              "      <th></th>\n",
              "      <th>flare</th>\n",
              "      <th>start.date</th>\n",
              "      <th>start.time</th>\n",
              "      <th>peak</th>\n",
              "      <th>end</th>\n",
              "      <th>duration.s</th>\n",
              "      <th>peak.c/s</th>\n",
              "      <th>total.counts</th>\n",
              "      <th>energy.kev</th>\n",
              "      <th>x.pos.asec</th>\n",
              "      <th>y.pos.asec</th>\n",
              "      <th>radial</th>\n",
              "      <th>active.region.ar</th>\n",
              "      <th>flag.1</th>\n",
              "      <th>flag.2</th>\n",
              "      <th>flag.3</th>\n",
              "      <th>flag.4</th>\n",
              "      <th>flag.5</th>\n",
              "    </tr>\n",
              "  </thead>\n",
              "  <tbody>\n",
              "    <tr>\n",
              "      <th>0</th>\n",
              "      <td>2021213</td>\n",
              "      <td>2002-02-12</td>\n",
              "      <td>21:29:56</td>\n",
              "      <td>21:33:38</td>\n",
              "      <td>21:41:48</td>\n",
              "      <td>712</td>\n",
              "      <td>136</td>\n",
              "      <td>167304</td>\n",
              "      <td>12-25</td>\n",
              "      <td>592</td>\n",
              "      <td>-358</td>\n",
              "      <td>692</td>\n",
              "      <td>0</td>\n",
              "      <td>A1</td>\n",
              "      <td>P1</td>\n",
              "      <td>NaN</td>\n",
              "      <td>NaN</td>\n",
              "      <td>NaN</td>\n",
              "    </tr>\n",
              "    <tr>\n",
              "      <th>1</th>\n",
              "      <td>2021228</td>\n",
              "      <td>2002-02-12</td>\n",
              "      <td>21:44:08</td>\n",
              "      <td>21:45:06</td>\n",
              "      <td>21:48:56</td>\n",
              "      <td>288</td>\n",
              "      <td>7</td>\n",
              "      <td>9504</td>\n",
              "      <td>6-12</td>\n",
              "      <td>604</td>\n",
              "      <td>-341</td>\n",
              "      <td>694</td>\n",
              "      <td>9811</td>\n",
              "      <td>A1</td>\n",
              "      <td>P1</td>\n",
              "      <td>PE</td>\n",
              "      <td>Q1</td>\n",
              "      <td>NaN</td>\n",
              "    </tr>\n",
              "    <tr>\n",
              "      <th>2</th>\n",
              "      <td>2021332</td>\n",
              "      <td>2002-02-13</td>\n",
              "      <td>00:53:24</td>\n",
              "      <td>00:54:54</td>\n",
              "      <td>00:57:00</td>\n",
              "      <td>216</td>\n",
              "      <td>15</td>\n",
              "      <td>11448</td>\n",
              "      <td>6-12</td>\n",
              "      <td>-310</td>\n",
              "      <td>375</td>\n",
              "      <td>487</td>\n",
              "      <td>9825</td>\n",
              "      <td>A1</td>\n",
              "      <td>P1</td>\n",
              "      <td>NaN</td>\n",
              "      <td>NaN</td>\n",
              "      <td>NaN</td>\n",
              "    </tr>\n",
              "    <tr>\n",
              "      <th>3</th>\n",
              "      <td>2021308</td>\n",
              "      <td>2002-02-13</td>\n",
              "      <td>04:22:52</td>\n",
              "      <td>04:23:50</td>\n",
              "      <td>04:26:56</td>\n",
              "      <td>244</td>\n",
              "      <td>20</td>\n",
              "      <td>17400</td>\n",
              "      <td>12-25</td>\n",
              "      <td>-277</td>\n",
              "      <td>378</td>\n",
              "      <td>469</td>\n",
              "      <td>9822</td>\n",
              "      <td>A1</td>\n",
              "      <td>P1</td>\n",
              "      <td>NaN</td>\n",
              "      <td>NaN</td>\n",
              "      <td>NaN</td>\n",
              "    </tr>\n",
              "    <tr>\n",
              "      <th>4</th>\n",
              "      <td>2021310</td>\n",
              "      <td>2002-02-13</td>\n",
              "      <td>07:03:52</td>\n",
              "      <td>07:05:14</td>\n",
              "      <td>07:07:48</td>\n",
              "      <td>236</td>\n",
              "      <td>336</td>\n",
              "      <td>313392</td>\n",
              "      <td>25-50</td>\n",
              "      <td>-272</td>\n",
              "      <td>390</td>\n",
              "      <td>476</td>\n",
              "      <td>9825</td>\n",
              "      <td>A1</td>\n",
              "      <td>GS</td>\n",
              "      <td>P1</td>\n",
              "      <td>PE</td>\n",
              "      <td>Q2</td>\n",
              "    </tr>\n",
              "  </tbody>\n",
              "</table>\n",
              "</div>\n",
              "    <div class=\"colab-df-buttons\">\n",
              "\n",
              "  <div class=\"colab-df-container\">\n",
              "    <button class=\"colab-df-convert\" onclick=\"convertToInteractive('df-b8f09677-3811-4e3f-b4e3-9b579d125efe')\"\n",
              "            title=\"Convert this dataframe to an interactive table.\"\n",
              "            style=\"display:none;\">\n",
              "\n",
              "  <svg xmlns=\"http://www.w3.org/2000/svg\" height=\"24px\" viewBox=\"0 -960 960 960\">\n",
              "    <path d=\"M120-120v-720h720v720H120Zm60-500h600v-160H180v160Zm220 220h160v-160H400v160Zm0 220h160v-160H400v160ZM180-400h160v-160H180v160Zm440 0h160v-160H620v160ZM180-180h160v-160H180v160Zm440 0h160v-160H620v160Z\"/>\n",
              "  </svg>\n",
              "    </button>\n",
              "\n",
              "  <style>\n",
              "    .colab-df-container {\n",
              "      display:flex;\n",
              "      gap: 12px;\n",
              "    }\n",
              "\n",
              "    .colab-df-convert {\n",
              "      background-color: #E8F0FE;\n",
              "      border: none;\n",
              "      border-radius: 50%;\n",
              "      cursor: pointer;\n",
              "      display: none;\n",
              "      fill: #1967D2;\n",
              "      height: 32px;\n",
              "      padding: 0 0 0 0;\n",
              "      width: 32px;\n",
              "    }\n",
              "\n",
              "    .colab-df-convert:hover {\n",
              "      background-color: #E2EBFA;\n",
              "      box-shadow: 0px 1px 2px rgba(60, 64, 67, 0.3), 0px 1px 3px 1px rgba(60, 64, 67, 0.15);\n",
              "      fill: #174EA6;\n",
              "    }\n",
              "\n",
              "    .colab-df-buttons div {\n",
              "      margin-bottom: 4px;\n",
              "    }\n",
              "\n",
              "    [theme=dark] .colab-df-convert {\n",
              "      background-color: #3B4455;\n",
              "      fill: #D2E3FC;\n",
              "    }\n",
              "\n",
              "    [theme=dark] .colab-df-convert:hover {\n",
              "      background-color: #434B5C;\n",
              "      box-shadow: 0px 1px 3px 1px rgba(0, 0, 0, 0.15);\n",
              "      filter: drop-shadow(0px 1px 2px rgba(0, 0, 0, 0.3));\n",
              "      fill: #FFFFFF;\n",
              "    }\n",
              "  </style>\n",
              "\n",
              "    <script>\n",
              "      const buttonEl =\n",
              "        document.querySelector('#df-b8f09677-3811-4e3f-b4e3-9b579d125efe button.colab-df-convert');\n",
              "      buttonEl.style.display =\n",
              "        google.colab.kernel.accessAllowed ? 'block' : 'none';\n",
              "\n",
              "      async function convertToInteractive(key) {\n",
              "        const element = document.querySelector('#df-b8f09677-3811-4e3f-b4e3-9b579d125efe');\n",
              "        const dataTable =\n",
              "          await google.colab.kernel.invokeFunction('convertToInteractive',\n",
              "                                                    [key], {});\n",
              "        if (!dataTable) return;\n",
              "\n",
              "        const docLinkHtml = 'Like what you see? Visit the ' +\n",
              "          '<a target=\"_blank\" href=https://colab.research.google.com/notebooks/data_table.ipynb>data table notebook</a>'\n",
              "          + ' to learn more about interactive tables.';\n",
              "        element.innerHTML = '';\n",
              "        dataTable['output_type'] = 'display_data';\n",
              "        await google.colab.output.renderOutput(dataTable, element);\n",
              "        const docLink = document.createElement('div');\n",
              "        docLink.innerHTML = docLinkHtml;\n",
              "        element.appendChild(docLink);\n",
              "      }\n",
              "    </script>\n",
              "  </div>\n",
              "\n",
              "\n",
              "<div id=\"df-e9f6d4b2-f78d-4369-8f8d-acf958f38990\">\n",
              "  <button class=\"colab-df-quickchart\" onclick=\"quickchart('df-e9f6d4b2-f78d-4369-8f8d-acf958f38990')\"\n",
              "            title=\"Suggest charts\"\n",
              "            style=\"display:none;\">\n",
              "\n",
              "<svg xmlns=\"http://www.w3.org/2000/svg\" height=\"24px\"viewBox=\"0 0 24 24\"\n",
              "     width=\"24px\">\n",
              "    <g>\n",
              "        <path d=\"M19 3H5c-1.1 0-2 .9-2 2v14c0 1.1.9 2 2 2h14c1.1 0 2-.9 2-2V5c0-1.1-.9-2-2-2zM9 17H7v-7h2v7zm4 0h-2V7h2v10zm4 0h-2v-4h2v4z\"/>\n",
              "    </g>\n",
              "</svg>\n",
              "  </button>\n",
              "\n",
              "<style>\n",
              "  .colab-df-quickchart {\n",
              "      --bg-color: #E8F0FE;\n",
              "      --fill-color: #1967D2;\n",
              "      --hover-bg-color: #E2EBFA;\n",
              "      --hover-fill-color: #174EA6;\n",
              "      --disabled-fill-color: #AAA;\n",
              "      --disabled-bg-color: #DDD;\n",
              "  }\n",
              "\n",
              "  [theme=dark] .colab-df-quickchart {\n",
              "      --bg-color: #3B4455;\n",
              "      --fill-color: #D2E3FC;\n",
              "      --hover-bg-color: #434B5C;\n",
              "      --hover-fill-color: #FFFFFF;\n",
              "      --disabled-bg-color: #3B4455;\n",
              "      --disabled-fill-color: #666;\n",
              "  }\n",
              "\n",
              "  .colab-df-quickchart {\n",
              "    background-color: var(--bg-color);\n",
              "    border: none;\n",
              "    border-radius: 50%;\n",
              "    cursor: pointer;\n",
              "    display: none;\n",
              "    fill: var(--fill-color);\n",
              "    height: 32px;\n",
              "    padding: 0;\n",
              "    width: 32px;\n",
              "  }\n",
              "\n",
              "  .colab-df-quickchart:hover {\n",
              "    background-color: var(--hover-bg-color);\n",
              "    box-shadow: 0 1px 2px rgba(60, 64, 67, 0.3), 0 1px 3px 1px rgba(60, 64, 67, 0.15);\n",
              "    fill: var(--button-hover-fill-color);\n",
              "  }\n",
              "\n",
              "  .colab-df-quickchart-complete:disabled,\n",
              "  .colab-df-quickchart-complete:disabled:hover {\n",
              "    background-color: var(--disabled-bg-color);\n",
              "    fill: var(--disabled-fill-color);\n",
              "    box-shadow: none;\n",
              "  }\n",
              "\n",
              "  .colab-df-spinner {\n",
              "    border: 2px solid var(--fill-color);\n",
              "    border-color: transparent;\n",
              "    border-bottom-color: var(--fill-color);\n",
              "    animation:\n",
              "      spin 1s steps(1) infinite;\n",
              "  }\n",
              "\n",
              "  @keyframes spin {\n",
              "    0% {\n",
              "      border-color: transparent;\n",
              "      border-bottom-color: var(--fill-color);\n",
              "      border-left-color: var(--fill-color);\n",
              "    }\n",
              "    20% {\n",
              "      border-color: transparent;\n",
              "      border-left-color: var(--fill-color);\n",
              "      border-top-color: var(--fill-color);\n",
              "    }\n",
              "    30% {\n",
              "      border-color: transparent;\n",
              "      border-left-color: var(--fill-color);\n",
              "      border-top-color: var(--fill-color);\n",
              "      border-right-color: var(--fill-color);\n",
              "    }\n",
              "    40% {\n",
              "      border-color: transparent;\n",
              "      border-right-color: var(--fill-color);\n",
              "      border-top-color: var(--fill-color);\n",
              "    }\n",
              "    60% {\n",
              "      border-color: transparent;\n",
              "      border-right-color: var(--fill-color);\n",
              "    }\n",
              "    80% {\n",
              "      border-color: transparent;\n",
              "      border-right-color: var(--fill-color);\n",
              "      border-bottom-color: var(--fill-color);\n",
              "    }\n",
              "    90% {\n",
              "      border-color: transparent;\n",
              "      border-bottom-color: var(--fill-color);\n",
              "    }\n",
              "  }\n",
              "</style>\n",
              "\n",
              "  <script>\n",
              "    async function quickchart(key) {\n",
              "      const quickchartButtonEl =\n",
              "        document.querySelector('#' + key + ' button');\n",
              "      quickchartButtonEl.disabled = true;  // To prevent multiple clicks.\n",
              "      quickchartButtonEl.classList.add('colab-df-spinner');\n",
              "      try {\n",
              "        const charts = await google.colab.kernel.invokeFunction(\n",
              "            'suggestCharts', [key], {});\n",
              "      } catch (error) {\n",
              "        console.error('Error during call to suggestCharts:', error);\n",
              "      }\n",
              "      quickchartButtonEl.classList.remove('colab-df-spinner');\n",
              "      quickchartButtonEl.classList.add('colab-df-quickchart-complete');\n",
              "    }\n",
              "    (() => {\n",
              "      let quickchartButtonEl =\n",
              "        document.querySelector('#df-e9f6d4b2-f78d-4369-8f8d-acf958f38990 button');\n",
              "      quickchartButtonEl.style.display =\n",
              "        google.colab.kernel.accessAllowed ? 'block' : 'none';\n",
              "    })();\n",
              "  </script>\n",
              "</div>\n",
              "\n",
              "    </div>\n",
              "  </div>\n"
            ],
            "application/vnd.google.colaboratory.intrinsic+json": {
              "type": "dataframe",
              "variable_name": "data"
            }
          },
          "metadata": {},
          "execution_count": 2
        }
      ]
    },
    {
      "cell_type": "code",
      "source": [
        "import pandas as pd\n",
        "import numpy as np\n",
        "from sklearn.preprocessing import MinMaxScaler\n",
        "from tensorflow import keras\n",
        "from tensorflow.keras import layers\n",
        "\n",
        "data = pd.read_csv(\"/content/drive/MyDrive/MSc/Solar /hessi.solar.flare.2002to2016.csv\", parse_dates=[\"start.date\"])\n",
        "\n",
        "# Converting 'start.date', 'start.time', 'end', and 'peak' to datetime\n",
        "data['start_datetime'] = pd.to_datetime(data['start.date'].astype(str) + ' ' + data['start.time'])\n",
        "data['end_datetime'] = pd.to_datetime(data['end'])\n",
        "data['peak_datetime'] = pd.to_datetime(data['peak'])\n",
        "\n",
        "# Scaling relevant features\n",
        "features_to_scale = ['duration.s', 'total.counts', 'x.pos.asec', 'y.pos.asec']\n",
        "scaler = MinMaxScaler()\n",
        "data[features_to_scale] = scaler.fit_transform(data[features_to_scale])\n",
        "\n",
        "# Extracting time features\n",
        "def extract_time_features(dt):\n",
        "    return dt.hour, dt.minute, dt.second\n",
        "\n",
        "data['start_hour'], data['start_minute'], data['start_second'] = zip(*data['start_datetime'].apply(extract_time_features))\n",
        "data['end_hour'], data['end_minute'], data['end_second'] = zip(*data['end_datetime'].apply(extract_time_features))\n",
        "data['peak_hour'], data['peak_minute'], data['peak_second'] = zip(*data['peak_datetime'].apply(extract_time_features))\n",
        "\n",
        "X_columns = ['duration.s','total.counts', 'x.pos.asec', 'y.pos.asec', 'start_hour', 'start_minute', 'start_second', 'end_hour', 'end_minute', 'end_second']\n",
        "y_columns = ['peak_hour', 'peak_minute', 'peak_second']\n",
        "\n",
        "X = data[X_columns].values.reshape(-1, 1, len(X_columns))\n",
        "y = data[y_columns].values\n",
        "\n",
        "def build_lstm_model(input_shape):\n",
        "    model = keras.Sequential([\n",
        "        keras.Input(shape=input_shape),\n",
        "        layers.LSTM(64, return_sequences=True),\n",
        "        layers.Dropout(0.2),\n",
        "        layers.LSTM(32),\n",
        "        layers.Dense(3)  # Predicting hour, minute, second\n",
        "    ])\n",
        "    model.compile(optimizer='adam', loss='mse', metrics=['mae'])\n",
        "    return model\n",
        "\n",
        "input_shape = (X.shape[1], X.shape[2])\n",
        "model = build_lstm_model(input_shape)\n",
        "\n",
        "history = model.fit(X, y, epochs=20, batch_size=64, validation_split=0.2)"
      ],
      "metadata": {
        "colab": {
          "base_uri": "https://localhost:8080/"
        },
        "id": "HmuojsXvXF8-",
        "outputId": "2d6b1a96-0671-4042-d561-fd1280e42598"
      },
      "execution_count": 3,
      "outputs": [
        {
          "output_type": "stream",
          "name": "stderr",
          "text": [
            "<ipython-input-3-48f4ad2ba94e>:11: UserWarning: Could not infer format, so each element will be parsed individually, falling back to `dateutil`. To ensure parsing is consistent and as-expected, please specify a format.\n",
            "  data['end_datetime'] = pd.to_datetime(data['end'])\n",
            "<ipython-input-3-48f4ad2ba94e>:12: UserWarning: Could not infer format, so each element will be parsed individually, falling back to `dateutil`. To ensure parsing is consistent and as-expected, please specify a format.\n",
            "  data['peak_datetime'] = pd.to_datetime(data['peak'])\n"
          ]
        },
        {
          "output_type": "stream",
          "name": "stdout",
          "text": [
            "Epoch 1/20\n",
            "1425/1425 [==============================] - 14s 7ms/step - loss: 340.1898 - mae: 14.0598 - val_loss: 196.2669 - val_mae: 11.0287\n",
            "Epoch 2/20\n",
            "1425/1425 [==============================] - 7s 5ms/step - loss: 168.1688 - mae: 9.8215 - val_loss: 149.0128 - val_mae: 8.6637\n",
            "Epoch 3/20\n",
            "1425/1425 [==============================] - 9s 6ms/step - loss: 140.4011 - mae: 8.1232 - val_loss: 133.3270 - val_mae: 7.5712\n",
            "Epoch 4/20\n",
            "1425/1425 [==============================] - 9s 6ms/step - loss: 131.6864 - mae: 7.4707 - val_loss: 129.2983 - val_mae: 7.1100\n",
            "Epoch 5/20\n",
            "1425/1425 [==============================] - 11s 8ms/step - loss: 129.1551 - mae: 7.2012 - val_loss: 129.3351 - val_mae: 7.0830\n",
            "Epoch 6/20\n",
            "1425/1425 [==============================] - 8s 6ms/step - loss: 127.8649 - mae: 7.0609 - val_loss: 127.0816 - val_mae: 6.8962\n",
            "Epoch 7/20\n",
            "1425/1425 [==============================] - 7s 5ms/step - loss: 126.8520 - mae: 6.9743 - val_loss: 126.1670 - val_mae: 6.7454\n",
            "Epoch 8/20\n",
            "1425/1425 [==============================] - 8s 6ms/step - loss: 125.8749 - mae: 6.8914 - val_loss: 126.9524 - val_mae: 6.7494\n",
            "Epoch 9/20\n",
            "1425/1425 [==============================] - 7s 5ms/step - loss: 124.9236 - mae: 6.8192 - val_loss: 123.9442 - val_mae: 6.6074\n",
            "Epoch 10/20\n",
            "1425/1425 [==============================] - 8s 6ms/step - loss: 124.1763 - mae: 6.7665 - val_loss: 123.8299 - val_mae: 6.6231\n",
            "Epoch 11/20\n",
            "1425/1425 [==============================] - 7s 5ms/step - loss: 123.4631 - mae: 6.7081 - val_loss: 122.4300 - val_mae: 6.5809\n",
            "Epoch 12/20\n",
            "1425/1425 [==============================] - 9s 6ms/step - loss: 123.0415 - mae: 6.6507 - val_loss: 122.9694 - val_mae: 6.4548\n",
            "Epoch 13/20\n",
            "1425/1425 [==============================] - 7s 5ms/step - loss: 122.4264 - mae: 6.6104 - val_loss: 121.9223 - val_mae: 6.4889\n",
            "Epoch 14/20\n",
            "1425/1425 [==============================] - 8s 6ms/step - loss: 122.1457 - mae: 6.5757 - val_loss: 121.9453 - val_mae: 6.4058\n",
            "Epoch 15/20\n",
            "1425/1425 [==============================] - 7s 5ms/step - loss: 122.0173 - mae: 6.5585 - val_loss: 122.7646 - val_mae: 6.4402\n",
            "Epoch 16/20\n",
            "1425/1425 [==============================] - 8s 6ms/step - loss: 121.5637 - mae: 6.5340 - val_loss: 122.2351 - val_mae: 6.4813\n",
            "Epoch 17/20\n",
            "1425/1425 [==============================] - 7s 5ms/step - loss: 121.4720 - mae: 6.5199 - val_loss: 120.5323 - val_mae: 6.3751\n",
            "Epoch 18/20\n",
            "1425/1425 [==============================] - 8s 6ms/step - loss: 121.4852 - mae: 6.5124 - val_loss: 120.5569 - val_mae: 6.3906\n",
            "Epoch 19/20\n",
            "1425/1425 [==============================] - 7s 5ms/step - loss: 121.2847 - mae: 6.4922 - val_loss: 120.4835 - val_mae: 6.3507\n",
            "Epoch 20/20\n",
            "1425/1425 [==============================] - 8s 6ms/step - loss: 121.1185 - mae: 6.4821 - val_loss: 120.9855 - val_mae: 6.3700\n"
          ]
        }
      ]
    },
    {
      "cell_type": "code",
      "source": [
        "def predict_peak_time(model, scaler, user_input):\n",
        "    scaled_features_input = scaler.transform([[user_input[key] for key in features_to_scale]])\n",
        "\n",
        "    # Adjusting unscaled_features_input to make it a 2D array by adding an extra dimension\n",
        "    unscaled_features_input = np.array([user_input[key] for key in ['start_hour', 'start_minute', 'start_second', 'end_hour', 'end_minute', 'end_second']]).reshape(1, -1)\n",
        "    X_user = np.hstack([scaled_features_input, unscaled_features_input]).reshape(1, 1, -1)\n",
        "\n",
        "    predicted_peak_time = model.predict(X_user)\n",
        "\n",
        "    return predicted_peak_time\n",
        "\n",
        "from datetime import datetime\n",
        "\n",
        "user_input = {\n",
        "    'total.counts': 50000,\n",
        "    'x.pos.asec': 100,\n",
        "    'y.pos.asec': -200,\n",
        "    'start_hour': 21,\n",
        "    'start_minute': 29,\n",
        "    'start_second': 56,\n",
        "    'end_hour': 21,\n",
        "    'end_minute': 41,\n",
        "    'end_second': 48\n",
        "}\n",
        "\n",
        "arbitrary_date = '2000-01-01'\n",
        "start_time_str = f\"{arbitrary_date} {user_input['start_hour']}:{user_input['start_minute']}:{user_input['start_second']}\"\n",
        "end_time_str = f\"{arbitrary_date} {user_input['end_hour']}:{user_input['end_minute']}:{user_input['end_second']}\"\n",
        "\n",
        "start_time = datetime.strptime(start_time_str, '%Y-%m-%d %H:%M:%S')\n",
        "end_time = datetime.strptime(end_time_str, '%Y-%m-%d %H:%M:%S')\n",
        "\n",
        "# Calculating duration.s as before\n",
        "duration_seconds = (end_time - start_time).total_seconds()\n",
        "\n",
        "# Adding duration.s to user_input\n",
        "user_input['duration.s'] = duration_seconds\n",
        "\n",
        "# Proceeding with the prediction using the fixed function\n",
        "predicted_peak_time = predict_peak_time(model, scaler, user_input)\n",
        "\n",
        "print(f\"Predicted Peak Time - Hour: {int(predicted_peak_time[0][0])}, Minute: {int(predicted_peak_time[0][1])}, Second: {int(predicted_peak_time[0][2])}\")"
      ],
      "metadata": {
        "colab": {
          "base_uri": "https://localhost:8080/"
        },
        "id": "kXVl2ZvJXkXM",
        "outputId": "66ffde47-41fc-44c1-adbf-1b9a273fe8b9"
      },
      "execution_count": 4,
      "outputs": [
        {
          "output_type": "stream",
          "name": "stderr",
          "text": [
            "/usr/local/lib/python3.10/dist-packages/sklearn/base.py:439: UserWarning: X does not have valid feature names, but MinMaxScaler was fitted with feature names\n",
            "  warnings.warn(\n"
          ]
        },
        {
          "output_type": "stream",
          "name": "stdout",
          "text": [
            "1/1 [==============================] - 1s 798ms/step\n",
            "Predicted Peak Time - Hour: 21, Minute: 32, Second: 29\n"
          ]
        }
      ]
    },
    {
      "cell_type": "code",
      "source": [
        "\n",
        "\n",
        "import matplotlib.pyplot as plt\n",
        "\n",
        "# Plot training and validation loss\n",
        "plt.plot(history.history['loss'], label='Training Loss')\n",
        "plt.plot(history.history['val_loss'], label='Validation Loss')\n",
        "plt.xlabel('Epoch')\n",
        "plt.ylabel('Loss')\n",
        "plt.legend()\n",
        "plt.show()\n",
        "\n",
        "# Plot training and validation accuracy\n",
        "plt.plot(history.history['mae'], label='Training Accuracy')\n",
        "plt.plot(history.history['val_mae'], label='Validation Accuracy')\n",
        "plt.xlabel('Epoch')\n",
        "plt.ylabel('Accuracy')\n",
        "plt.legend()\n",
        "plt.show()\n"
      ],
      "metadata": {
        "colab": {
          "base_uri": "https://localhost:8080/",
          "height": 885
        },
        "id": "90tTw8yrZLYt",
        "outputId": "bcc39293-31e0-4fa1-bb72-cce6de313bee"
      },
      "execution_count": 9,
      "outputs": [
        {
          "output_type": "display_data",
          "data": {
            "text/plain": [
              "<Figure size 640x480 with 1 Axes>"
            ],
            "image/png": "[encoded data removed]"
          },
          "metadata": {}
        },
        {
          "output_type": "display_data",
          "data": {
            "text/plain": [
              "<Figure size 640x480 with 1 Axes>"
            ],
            "image/png": "[encoded data removed]"
          },
          "metadata": {}
        }
      ]
    },
    {
      "cell_type": "code",
      "source": [
        "diff = abs(y - model.predict(X))\n",
        "print(diff)\n"
      ],
      "metadata": {
        "colab": {
          "base_uri": "https://localhost:8080/"
        },
        "id": "R_dWYKSlZSJI",
        "outputId": "cca6146f-cd8b-44e2-9de0-061edf777c46"
      },
      "execution_count": 12,
      "outputs": [
        {
          "output_type": "stream",
          "name": "stdout",
          "text": [
            "3561/3561 [==============================] - 10s 3ms/step\n",
            "[[ 0.51379013  0.30867767  8.07259941]\n",
            " [ 0.10442734  0.22603607 23.78399467]\n",
            " [ 0.69889492  1.05369949 24.14958763]\n",
            " ...\n",
            " [ 0.19060612  4.35487366 23.97687912]\n",
            " [ 0.70377731  1.58408546  0.17375374]\n",
            " [ 0.74057007  2.040802   15.95053673]]\n"
          ]
        }
      ]
    },
    {
      "cell_type": "code",
      "source": [
      
        "\n",
        "# Calculate the difference between the predicted and actual values for each parameter\n",
        "diff_duration = abs(y[:, 0] - model.predict(X)[:, 0])\n",
        "diff_total_counts = abs(y[:, 1] - model.predict(X)[:, 1])\n",
        "diff_x_pos = abs(y[:, 2] - model.predict(X)[:, 2])\n",
        "#diff_y_pos = abs(y[:, 3] - model.predict(X)[:, 3])\n",
        "\n",
        "# Print the differences\n",
        "print(\"Difference in duration.s:\", diff_duration)\n",
        "print(\"Difference in total.counts:\", diff_total_counts)\n",
        "print(\"Difference in x.pos.asec:\", diff_x_pos)\n",
        "#print(\"Difference in y.pos.asec:\", diff_y_pos)\n"
      ],
      "metadata": {
        "colab": {
          "base_uri": "https://localhost:8080/"
        },
        "id": "JZcRCknQZbyp",
        "outputId": "a6a9e556-5a53-4ca2-e6af-e9a35755a6d7"
      },
      "execution_count": 16,
      "outputs": [
        {
          "output_type": "stream",
          "name": "stdout",
          "text": [
            "3561/3561 [==============================] - 8s 2ms/step\n",
            "3561/3561 [==============================] - 7s 2ms/step\n",
            "3561/3561 [==============================] - 8s 2ms/step\n",
            "Difference in duration.s: [0.51379013 0.10442734 0.69889492 ... 0.19060612 0.70377731 0.74057007]\n",
            "Difference in total.counts: [0.30867767 0.22603607 1.05369949 ... 4.35487366 1.58408546 2.040802  ]\n",
            "Difference in x.pos.asec: [ 8.07259941 23.78399467 24.14958763 ... 23.97687912  0.17375374\n",
            " 15.95053673]\n"
          ]
        }
      ]
    },
    {
      "cell_type": "code",
      "source": [
        "\n",
        "\n",
        "model.summary()"
      ],
      "metadata": {
        "colab": {
          "base_uri": "https://localhost:8080/"
        },
        "id": "1l5D2SYvaI0f",
        "outputId": "5d04d35c-a13d-4ef5-a03b-18ea23e569ba"
      },
      "execution_count": 17,
      "outputs": [
        {
          "output_type": "stream",
          "name": "stdout",
          "text": [
            "Model: \"sequential\"\n",
            "_________________________________________________________________\n",
            " Layer (type)                Output Shape              Param #   \n",
            "=================================================================\n",
            " lstm (LSTM)                 (None, 1, 64)             19200     \n",
            "                                                                 \n",
            " dropout (Dropout)           (None, 1, 64)             0         \n",
            "                                                                 \n",
            " lstm_1 (LSTM)               (None, 32)                12416     \n",
            "                                                                 \n",
            " dense (Dense)               (None, 3)                 99        \n",
            "                                                                 \n",
            "=================================================================\n",
            "Total params: 31715 (123.89 KB)\n",
            "Trainable params: 31715 (123.89 KB)\n",
            "Non-trainable params: 0 (0.00 Byte)\n",
            "_________________________________________________________________\n"
          ]
        }
      ]
    },
    {
      "cell_type": "code",
      "source": [
        "\n",
        "\n",
        "# Calculate the mean squared error\n",
        "mse = np.mean(np.square(y - model.predict(X)))\n",
        "\n",
        "# Print the mean squared error\n",
        "print(\"Mean squared error:\", mse)\n",
        "\n",
        "# Calculate the root mean squared error\n",
        "rmse = np.sqrt(mse)\n",
        "\n",
        "# Print the root mean squared error\n",
        "print(\"Root mean squared error:\", rmse)\n"
      ],
      "metadata": {
        "colab": {
          "base_uri": "https://localhost:8080/"
        },
        "id": "1kF8dnzsaOjR",
        "outputId": "2f320732-ae69-475b-d6a4-3538d41cf0e9"
      },
      "execution_count": 21,
      "outputs": [
        {
          "output_type": "stream",
          "name": "stdout",
          "text": [
            "3561/3561 [==============================] - 8s 2ms/step\n",
            "Mean squared error: 120.07746072930182\n",
            "Root mean squared error: 10.957986162124033\n"
          ]
        }
      ]
    },
    {
      "cell_type": "code",
      "source": [
        "\n",
        "from sklearn.metrics import confusion_matrix\n",
        "import matplotlib.pyplot as plt\n",
        "\n",
        "# Get the predicted labels\n",
        "predicted_labels = np.argmax(model.predict(X), axis=1)\n",
        "\n",
        "# Get the true labels\n",
        "true_labels = np.argmax(y, axis=1)\n",
        "\n",
        "# Generate the confusion matrix\n",
        "confusion_matrix = confusion_matrix(true_labels, predicted_labels)\n",
        "\n",
        "# Plot the confusion matrix\n",
        "plt.figure(figsize=(8, 6))\n",
        "sns.heatmap(confusion_matrix, annot=True, fmt=\"d\", cmap=\"Blues\")\n",
        "plt.xlabel(\"Predicted Label\")\n",
        "plt.ylabel(\"True Label\")\n",
        "plt.title(\"Confusion Matrix\")\n",
        "plt.show()\n"
      ],
      "metadata": {
        "colab": {
          "base_uri": "https://localhost:8080/",
          "height": 581
        },
        "id": "i9lGtUCnabNU",
        "outputId": "8c2512a9-871d-4677-8654-341c7912d9e2"
      },
      "execution_count": 27,
      "outputs": [
        {
          "output_type": "stream",
          "name": "stdout",
          "text": [
            "3561/3561 [==============================] - 9s 3ms/step\n"
          ]
        },
        {
          "output_type": "display_data",
          "data": {
            "text/plain": [
              "<Figure size 800x600 with 2 Axes>"
            ],
            "image/png": "[encoded data removed]"
          },
          "metadata": {}
        }
      ]
    },
    {
      "cell_type": "code",
      "source": [
        "from sklearn.metrics import accuracy_score\n",
        "\n",
        "# Get the predicted labels\n",
        "predicted_labels = np.argmax(model.predict(X), axis=1)\n",
        "\n",
        "# Get the true labels\n",
        "true_labels = np.argmax(y, axis=1)\n",
        "\n",
        "# Calculate the accuracy\n",
        "accuracy = accuracy_score(true_labels, predicted_labels)\n",
        "\n",
        "# Print the accuracy\n",
        "print(\"Accuracy:\", accuracy)\n"
      ],
      "metadata": {
        "colab": {
          "base_uri": "https://localhost:8080/"
        },
        "id": "Etnnzl_la5jO",
        "outputId": "8fb90ba4-1417-4887-8f6c-1b7a3e375a4c"
      },
      "execution_count": 38,
      "outputs": [
        {
          "output_type": "stream",
          "name": "stdout",
          "text": [
            "Accuracy: 0.6973547945445928\n"
          ]
        }
      ]
    }
  ]
}
